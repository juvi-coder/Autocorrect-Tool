{
  "nbformat": 4,
  "nbformat_minor": 0,
  "metadata": {
    "colab": {
      "provenance": []
    },
    "kernelspec": {
      "name": "python3",
      "display_name": "Python 3"
    },
    "language_info": {
      "name": "python"
    }
  },
  "cells": [
    {
      "cell_type": "code",
      "execution_count": 27,
      "metadata": {
        "id": "dr6xq-YUDW9T",
        "colab": {
          "base_uri": "https://localhost:8080/"
        },
        "outputId": "582b9da2-3737-4285-fa31-ebcd1d4a8a6f"
      },
      "outputs": [
        {
          "output_type": "stream",
          "name": "stdout",
          "text": [
            "Populating the interactive namespace from numpy and matplotlib\n"
          ]
        }
      ],
      "source": [
        "#Importing necessacry packages \n",
        "\n",
        "import re\n",
        "import math\n",
        "%pylab inline\n",
        "from collections import Counter\n",
        "import random\n",
        "import string"
      ]
    },
    {
      "cell_type": "code",
      "source": [
        "##Loading the file, breaking the file into words, normalizing capitals to smalls, removing punctuations and numbers\n",
        "##Tokenization of the words in file \n"
      ],
      "metadata": {
        "id": "RicD0-iyGyj9"
      },
      "execution_count": 28,
      "outputs": []
    },
    {
      "cell_type": "code",
      "source": [
        "#Loading the data file\n",
        "LearningData = open(\"Data.txt\").read()\n",
        "len(LearningData) #No of Charaters in the file"
      ],
      "metadata": {
        "colab": {
          "base_uri": "https://localhost:8080/"
        },
        "id": "6T7mXR4xHF6v",
        "outputId": "dfe06d2d-d6fe-4313-d7cb-75952845c622"
      },
      "execution_count": 29,
      "outputs": [
        {
          "output_type": "execute_result",
          "data": {
            "text/plain": [
              "6488666"
            ]
          },
          "metadata": {},
          "execution_count": 29
        }
      ]
    },
    {
      "cell_type": "code",
      "source": [
        "#Function to create vocabs which doesn't consider punctuations, numbers and normalizes capitals to smalls\n",
        "#Listing all the strings\n",
        "\n",
        "def Vocabs (Text):\n",
        "  return re.findall(\"[a-z]+\", Text.lower())\n"
      ],
      "metadata": {
        "id": "vjQfboMhG73O"
      },
      "execution_count": 30,
      "outputs": []
    },
    {
      "cell_type": "code",
      "source": [
        "#Testing the above function \n",
        "\n",
        "Vocabs(\"IDS 561! was tough but intresting\")"
      ],
      "metadata": {
        "colab": {
          "base_uri": "https://localhost:8080/"
        },
        "id": "L97v6HAiOUv3",
        "outputId": "adcca758-48e1-4d6c-e7d6-109298cabeb9"
      },
      "execution_count": 31,
      "outputs": [
        {
          "output_type": "execute_result",
          "data": {
            "text/plain": [
              "['ids', 'was', 'tough', 'but', 'intresting']"
            ]
          },
          "metadata": {},
          "execution_count": 31
        }
      ]
    },
    {
      "cell_type": "code",
      "source": [
        "#Generating words from out text, removing all spaces, punctuations and normalizing it to small letter words\n",
        "\n",
        "input = Vocabs(LearningData)\n",
        "len(input) #Number of words we have in the data file 1105285"
      ],
      "metadata": {
        "colab": {
          "base_uri": "https://localhost:8080/"
        },
        "id": "cAMQNhdLPABY",
        "outputId": "7c9cb0e6-0094-4742-f749-38e5dd424b58"
      },
      "execution_count": 32,
      "outputs": [
        {
          "output_type": "execute_result",
          "data": {
            "text/plain": [
              "1105285"
            ]
          },
          "metadata": {},
          "execution_count": 32
        }
      ]
    },
    {
      "cell_type": "code",
      "source": [
        "#Sample of the vocabs. First ten words\n",
        "input[0:10]"
      ],
      "metadata": {
        "colab": {
          "base_uri": "https://localhost:8080/"
        },
        "id": "dCydnY3JPd2N",
        "outputId": "a62811a1-0647-4181-ffa0-b11b60bc5885"
      },
      "execution_count": 33,
      "outputs": [
        {
          "output_type": "execute_result",
          "data": {
            "text/plain": [
              "['the',\n",
              " 'project',\n",
              " 'gutenberg',\n",
              " 'ebook',\n",
              " 'of',\n",
              " 'the',\n",
              " 'adventures',\n",
              " 'of',\n",
              " 'sherlock',\n",
              " 'holmes']"
            ]
          },
          "metadata": {},
          "execution_count": 33
        }
      ]
    },
    {
      "cell_type": "code",
      "source": [
        "#Using counter, tokenization of all the words\n",
        "#Generates a dictinoary \n",
        "Tokens = Counter(input)\n"
      ],
      "metadata": {
        "id": "FgP_tsnDQIrf"
      },
      "execution_count": 34,
      "outputs": []
    },
    {
      "cell_type": "code",
      "source": [
        "print(Tokens.most_common(10)) #Token creation of the each words in leaning data is done."
      ],
      "metadata": {
        "colab": {
          "base_uri": "https://localhost:8080/"
        },
        "id": "KJiq7dtYRLPL",
        "outputId": "bd48c80f-0cf0-4d06-da2b-5bfba7c2ea43"
      },
      "execution_count": 35,
      "outputs": [
        {
          "output_type": "stream",
          "name": "stdout",
          "text": [
            "[('the', 80030), ('of', 40025), ('and', 38313), ('to', 28766), ('in', 22050), ('a', 21155), ('that', 12512), ('he', 12401), ('was', 11410), ('it', 10681)]\n"
          ]
        }
      ]
    },
    {
      "cell_type": "code",
      "source": [
        "#Spelling Correction Model"
      ],
      "metadata": {
        "id": "Ffo5qbKYRT00"
      },
      "execution_count": null,
      "outputs": []
    },
    {
      "cell_type": "code",
      "source": [
        "def known(words):\n",
        "  return {w for w in words if w in input}"
      ],
      "metadata": {
        "id": "mo4TTQTzRyiA"
      },
      "execution_count": 36,
      "outputs": []
    },
    {
      "cell_type": "code",
      "source": [
        "def edits0(word):\n",
        "  return {word}"
      ],
      "metadata": {
        "id": "wZJ-mHFxizGU"
      },
      "execution_count": 37,
      "outputs": []
    },
    {
      "cell_type": "code",
      "source": [
        "def splits(word):\n",
        "  return [(word[:i], word[i:])\n",
        "          for i in range(len(word)+1)]\n",
        "\n",
        "alphabet = \"abcdefghijklmnopqrstuvwxyz\"\n",
        "\n",
        "def edits1(word):\n",
        "  pairs = splits(word)\n",
        "  deletes = [a+b[1:] for (a,b) in pairs if b]\n",
        "  transposes = [a+b[1]+b[0]+b[2:] for (a,b) in pairs if len(b)>1]\n",
        "  replaces = [a+c+b[1:] for (a,b) in pairs for c in alphabet if b]\n",
        "  inserts = [a+c+b for (a,b) in pairs for c in alphabet]\n",
        "  return set(deletes + transposes + replaces + inserts)\n"
      ],
      "metadata": {
        "id": "6tFKTBDyjMOl"
      },
      "execution_count": 38,
      "outputs": []
    },
    {
      "cell_type": "code",
      "source": [
        "def edits2(word):\n",
        "  return {e2 for e1 in edits1(word) for e2 in edits1(e1)}"
      ],
      "metadata": {
        "id": "qa_OVIDBm89z"
      },
      "execution_count": 39,
      "outputs": []
    },
    {
      "cell_type": "code",
      "source": [
        "def autocorrect (word):\n",
        "  Y = (known(edits0(word)))or known(edits1(word)) or known(edits2(word) or [word])\n",
        "  return max(Y, key = Tokens.get)"
      ],
      "metadata": {
        "id": "LZxz1w4mnRrf"
      },
      "execution_count": 40,
      "outputs": []
    },
    {
      "cell_type": "code",
      "source": [
        "autocorrect(1)"
      ],
      "metadata": {
        "colab": {
          "base_uri": "https://localhost:8080/",
          "height": 307
        },
        "id": "hl1J4QAtt6GJ",
        "outputId": "a34d56f8-c0df-48da-cfae-5fd436bd44b9"
      },
      "execution_count": 44,
      "outputs": [
        {
          "output_type": "error",
          "ename": "TypeError",
          "evalue": "ignored",
          "traceback": [
            "\u001b[0;31m---------------------------------------------------------------------------\u001b[0m",
            "\u001b[0;31mTypeError\u001b[0m                                 Traceback (most recent call last)",
            "\u001b[0;32m<ipython-input-44-872e90530ce6>\u001b[0m in \u001b[0;36m<module>\u001b[0;34m\u001b[0m\n\u001b[0;32m----> 1\u001b[0;31m \u001b[0mautocorrect\u001b[0m\u001b[0;34m(\u001b[0m\u001b[0;36m1\u001b[0m\u001b[0;34m)\u001b[0m\u001b[0;34m\u001b[0m\u001b[0;34m\u001b[0m\u001b[0m\n\u001b[0m",
            "\u001b[0;32m<ipython-input-40-26c432fb86c5>\u001b[0m in \u001b[0;36mautocorrect\u001b[0;34m(word)\u001b[0m\n\u001b[1;32m      1\u001b[0m \u001b[0;32mdef\u001b[0m \u001b[0mautocorrect\u001b[0m \u001b[0;34m(\u001b[0m\u001b[0mword\u001b[0m\u001b[0;34m)\u001b[0m\u001b[0;34m:\u001b[0m\u001b[0;34m\u001b[0m\u001b[0;34m\u001b[0m\u001b[0m\n\u001b[0;32m----> 2\u001b[0;31m   \u001b[0mY\u001b[0m \u001b[0;34m=\u001b[0m \u001b[0;34m(\u001b[0m\u001b[0mknown\u001b[0m\u001b[0;34m(\u001b[0m\u001b[0medits0\u001b[0m\u001b[0;34m(\u001b[0m\u001b[0mword\u001b[0m\u001b[0;34m)\u001b[0m\u001b[0;34m)\u001b[0m\u001b[0;34m)\u001b[0m\u001b[0;32mor\u001b[0m \u001b[0mknown\u001b[0m\u001b[0;34m(\u001b[0m\u001b[0medits1\u001b[0m\u001b[0;34m(\u001b[0m\u001b[0mword\u001b[0m\u001b[0;34m)\u001b[0m\u001b[0;34m)\u001b[0m \u001b[0;32mor\u001b[0m \u001b[0mknown\u001b[0m\u001b[0;34m(\u001b[0m\u001b[0medits2\u001b[0m\u001b[0;34m(\u001b[0m\u001b[0mword\u001b[0m\u001b[0;34m)\u001b[0m \u001b[0;32mor\u001b[0m \u001b[0;34m[\u001b[0m\u001b[0mword\u001b[0m\u001b[0;34m]\u001b[0m\u001b[0;34m)\u001b[0m\u001b[0;34m\u001b[0m\u001b[0;34m\u001b[0m\u001b[0m\n\u001b[0m\u001b[1;32m      3\u001b[0m   \u001b[0;32mreturn\u001b[0m \u001b[0mmax\u001b[0m\u001b[0;34m(\u001b[0m\u001b[0mY\u001b[0m\u001b[0;34m,\u001b[0m \u001b[0mkey\u001b[0m \u001b[0;34m=\u001b[0m \u001b[0mTokens\u001b[0m\u001b[0;34m.\u001b[0m\u001b[0mget\u001b[0m\u001b[0;34m)\u001b[0m\u001b[0;34m\u001b[0m\u001b[0;34m\u001b[0m\u001b[0m\n",
            "\u001b[0;32m<ipython-input-38-14f1754f28c8>\u001b[0m in \u001b[0;36medits1\u001b[0;34m(word)\u001b[0m\n\u001b[1;32m      6\u001b[0m \u001b[0;34m\u001b[0m\u001b[0m\n\u001b[1;32m      7\u001b[0m \u001b[0;32mdef\u001b[0m \u001b[0medits1\u001b[0m\u001b[0;34m(\u001b[0m\u001b[0mword\u001b[0m\u001b[0;34m)\u001b[0m\u001b[0;34m:\u001b[0m\u001b[0;34m\u001b[0m\u001b[0;34m\u001b[0m\u001b[0m\n\u001b[0;32m----> 8\u001b[0;31m   \u001b[0mpairs\u001b[0m \u001b[0;34m=\u001b[0m \u001b[0msplits\u001b[0m\u001b[0;34m(\u001b[0m\u001b[0mword\u001b[0m\u001b[0;34m)\u001b[0m\u001b[0;34m\u001b[0m\u001b[0;34m\u001b[0m\u001b[0m\n\u001b[0m\u001b[1;32m      9\u001b[0m   \u001b[0mdeletes\u001b[0m \u001b[0;34m=\u001b[0m \u001b[0;34m[\u001b[0m\u001b[0ma\u001b[0m\u001b[0;34m+\u001b[0m\u001b[0mb\u001b[0m\u001b[0;34m[\u001b[0m\u001b[0;36m1\u001b[0m\u001b[0;34m:\u001b[0m\u001b[0;34m]\u001b[0m \u001b[0;32mfor\u001b[0m \u001b[0;34m(\u001b[0m\u001b[0ma\u001b[0m\u001b[0;34m,\u001b[0m\u001b[0mb\u001b[0m\u001b[0;34m)\u001b[0m \u001b[0;32min\u001b[0m \u001b[0mpairs\u001b[0m \u001b[0;32mif\u001b[0m \u001b[0mb\u001b[0m\u001b[0;34m]\u001b[0m\u001b[0;34m\u001b[0m\u001b[0;34m\u001b[0m\u001b[0m\n\u001b[1;32m     10\u001b[0m   \u001b[0mtransposes\u001b[0m \u001b[0;34m=\u001b[0m \u001b[0;34m[\u001b[0m\u001b[0ma\u001b[0m\u001b[0;34m+\u001b[0m\u001b[0mb\u001b[0m\u001b[0;34m[\u001b[0m\u001b[0;36m1\u001b[0m\u001b[0;34m]\u001b[0m\u001b[0;34m+\u001b[0m\u001b[0mb\u001b[0m\u001b[0;34m[\u001b[0m\u001b[0;36m0\u001b[0m\u001b[0;34m]\u001b[0m\u001b[0;34m+\u001b[0m\u001b[0mb\u001b[0m\u001b[0;34m[\u001b[0m\u001b[0;36m2\u001b[0m\u001b[0;34m:\u001b[0m\u001b[0;34m]\u001b[0m \u001b[0;32mfor\u001b[0m \u001b[0;34m(\u001b[0m\u001b[0ma\u001b[0m\u001b[0;34m,\u001b[0m\u001b[0mb\u001b[0m\u001b[0;34m)\u001b[0m \u001b[0;32min\u001b[0m \u001b[0mpairs\u001b[0m \u001b[0;32mif\u001b[0m \u001b[0mlen\u001b[0m\u001b[0;34m(\u001b[0m\u001b[0mb\u001b[0m\u001b[0;34m)\u001b[0m\u001b[0;34m>\u001b[0m\u001b[0;36m1\u001b[0m\u001b[0;34m]\u001b[0m\u001b[0;34m\u001b[0m\u001b[0;34m\u001b[0m\u001b[0m\n",
            "\u001b[0;32m<ipython-input-38-14f1754f28c8>\u001b[0m in \u001b[0;36msplits\u001b[0;34m(word)\u001b[0m\n\u001b[1;32m      1\u001b[0m \u001b[0;32mdef\u001b[0m \u001b[0msplits\u001b[0m\u001b[0;34m(\u001b[0m\u001b[0mword\u001b[0m\u001b[0;34m)\u001b[0m\u001b[0;34m:\u001b[0m\u001b[0;34m\u001b[0m\u001b[0;34m\u001b[0m\u001b[0m\n\u001b[1;32m      2\u001b[0m   return [(word[:i], word[i:])\n\u001b[0;32m----> 3\u001b[0;31m           for i in range(len(word)+1)]\n\u001b[0m\u001b[1;32m      4\u001b[0m \u001b[0;34m\u001b[0m\u001b[0m\n\u001b[1;32m      5\u001b[0m \u001b[0malphabet\u001b[0m \u001b[0;34m=\u001b[0m \u001b[0;34m\"abcdefghijklmnopqrstuvwxyz\"\u001b[0m\u001b[0;34m\u001b[0m\u001b[0;34m\u001b[0m\u001b[0m\n",
            "\u001b[0;31mTypeError\u001b[0m: object of type 'int' has no len()"
          ]
        }
      ]
    },
    {
      "cell_type": "code",
      "source": [
        "autocorrect(L)"
      ],
      "metadata": {
        "colab": {
          "base_uri": "https://localhost:8080/",
          "height": 164
        },
        "id": "3cJg81xzuI2X",
        "outputId": "b79e04f2-6895-489f-9ac0-5285a208ba84"
      },
      "execution_count": 45,
      "outputs": [
        {
          "output_type": "error",
          "ename": "NameError",
          "evalue": "ignored",
          "traceback": [
            "\u001b[0;31m---------------------------------------------------------------------------\u001b[0m",
            "\u001b[0;31mNameError\u001b[0m                                 Traceback (most recent call last)",
            "\u001b[0;32m<ipython-input-45-f8018e3c444d>\u001b[0m in \u001b[0;36m<module>\u001b[0;34m\u001b[0m\n\u001b[0;32m----> 1\u001b[0;31m \u001b[0mautocorrect\u001b[0m\u001b[0;34m(\u001b[0m\u001b[0mL\u001b[0m\u001b[0;34m)\u001b[0m\u001b[0;34m\u001b[0m\u001b[0;34m\u001b[0m\u001b[0m\n\u001b[0m",
            "\u001b[0;31mNameError\u001b[0m: name 'L' is not defined"
          ]
        }
      ]
    },
    {
      "cell_type": "code",
      "source": [
        "#addressing capital letters and auto correcting text for sentences \n",
        "\n",
        "def case_of(text):\n",
        "  return (str.upper if text.isupper() else\n",
        "   str.lower if text.islower() else\n",
        "   str.title if text.istitle() else\n",
        "    str)\n",
        "\n",
        "\n",
        "def correct_match(match):\n",
        "  word = match.group()\n",
        "  return case_of(word)(autocorrect(word.lower()))\n",
        "\n",
        "def autocorrect1(text):\n",
        "  return re.sub('[a-zA-z]+', correct_match, text)"
      ],
      "metadata": {
        "id": "BkujX-xbpWmi"
      },
      "execution_count": 41,
      "outputs": []
    },
    {
      "cell_type": "code",
      "source": [
        "autocorrect1(\"andd\")"
      ],
      "metadata": {
        "colab": {
          "base_uri": "https://localhost:8080/",
          "height": 37
        },
        "id": "xODNW3tVwtVj",
        "outputId": "f6a8ce42-942d-4135-c4f4-17a4e0475738"
      },
      "execution_count": 51,
      "outputs": [
        {
          "output_type": "execute_result",
          "data": {
            "text/plain": [
              "'and'"
            ],
            "application/vnd.google.colaboratory.intrinsic+json": {
              "type": "string"
            }
          },
          "metadata": {},
          "execution_count": 51
        }
      ]
    },
    {
      "cell_type": "code",
      "source": [
        "autocorrect1('Speling Errurs IN somethink. Whutever; unusuel misteakes?')"
      ],
      "metadata": {
        "colab": {
          "base_uri": "https://localhost:8080/",
          "height": 37
        },
        "id": "1AzlH-DDtVbn",
        "outputId": "98ac9d0c-6e21-499b-f70c-758a63fdeee7"
      },
      "execution_count": 42,
      "outputs": [
        {
          "output_type": "execute_result",
          "data": {
            "text/plain": [
              "'Spelling Errors IN something. Whatever; unusual mistakes?'"
            ],
            "application/vnd.google.colaboratory.intrinsic+json": {
              "type": "string"
            }
          },
          "metadata": {},
          "execution_count": 42
        }
      ]
    },
    {
      "cell_type": "code",
      "source": [
        "autocorrect1(\"I lovr machjine learming\")"
      ],
      "metadata": {
        "colab": {
          "base_uri": "https://localhost:8080/",
          "height": 37
        },
        "id": "X8457Rq5tEp_",
        "outputId": "316f6611-c2d3-4c18-923d-908e1472ad6f"
      },
      "execution_count": 43,
      "outputs": [
        {
          "output_type": "execute_result",
          "data": {
            "text/plain": [
              "'I love machine learning'"
            ],
            "application/vnd.google.colaboratory.intrinsic+json": {
              "type": "string"
            }
          },
          "metadata": {},
          "execution_count": 43
        }
      ]
    },
    {
      "cell_type": "code",
      "source": [
        "autocorrect1(\"IDS 561 is toujh\")"
      ],
      "metadata": {
        "colab": {
          "base_uri": "https://localhost:8080/",
          "height": 37
        },
        "id": "v8YprKmtsowz",
        "outputId": "b577b97e-5644-42bc-e687-4989ff7f5fe7"
      },
      "execution_count": null,
      "outputs": [
        {
          "output_type": "execute_result",
          "data": {
            "text/plain": [
              "'IS 561 is touch'"
            ],
            "application/vnd.google.colaboratory.intrinsic+json": {
              "type": "string"
            }
          },
          "metadata": {},
          "execution_count": 70
        }
      ]
    },
    {
      "cell_type": "code",
      "source": [
        "from tkinter import *\n",
        "from tkinter.ttk import *\n",
        "\n",
        "\n"
      ],
      "metadata": {
        "id": "NjSFKvIO-eGO"
      },
      "execution_count": null,
      "outputs": []
    },
    {
      "cell_type": "code",
      "source": [
        "#GUI for spellcheck\n",
        "import tkinter as tk\n",
        "from tkinter.ttk import *\n",
        "\n",
        "\n",
        "# import all functions / classes from the tkinter\n",
        "\n",
        "\n",
        "# Function to clear both the text entry boxes\n",
        "def clearAll():\n",
        "    # whole content of text entry area is deleted\n",
        "    word1_field.delete(0, END)\n",
        "    word2_field.delete(0, END)\n",
        "\n",
        "\n",
        "# Function to get a corrected word\n",
        "def correction():\n",
        "    # get a content from entry box\n",
        "    input_word = word1_field.get()\n",
        "\n",
        "    # create a TextBlob object\n",
        "    blob_obj = autocorrect1(input_word)\n",
        "\n",
        "    # get a corrected word\n",
        "    corrected_word = blob_obj\n",
        "\n",
        "    # insert method inserting the\n",
        "    # value in the text entry box.\n",
        "    word2_field.insert(10, corrected_word)\n",
        "\n",
        "\n",
        "# Driver code\n",
        "if __name__ == \"__main__\":\n",
        "    # Create a GUI window\n",
        "    root = tk.Tk()\n",
        "    root.title(\"Spell Check and AutoCorrect\")\n",
        "\n",
        "    root.configure(background=\"DarkSlateGray3\")\n",
        "    root.geometry(\"400x150\")\n",
        "    root.title(\"Spell Checker\")\n",
        "    headlabel = tk.Label(root, text=\"Spell Checker and Correcter Application\", fg=\"black\", bg=\"white\")\n",
        "    label1 = tk.Label(root, text=\"Enter text for correction\", fg=\"black\", bg=\"white\")\n",
        "    label2 = tk.Label(root, text=\"Corrected Text\", fg=\"black\", bg=\"white\")\n",
        "    headlabel.grid(row=0, column=1)\n",
        "    label1.grid(row=1, column=0)\n",
        "    label2.grid(row=3, column=0, padx=10)\n",
        "\n",
        "    word1_field = Entry()\n",
        "    word2_field = Entry()\n",
        "\n",
        "    word1_field.grid(row=1, column=1, padx=10, pady=10)\n",
        "    word2_field.grid(row=3, column=1, padx=10, pady=10)\n",
        "\n",
        "    button1 = tk.Button(root, text=\"Correction\", bg=\"white\", fg=\"black\", command=correction)\n",
        "    button1.grid(row=2, column=1)\n",
        "\n",
        "    button2 = tk.Button(root, text=\"Clear\", bg=\"white\", fg=\"black\", command=clearAll)\n",
        "\n",
        "    button2.grid(row=4, column=1)\n",
        "\n",
        "    root.mainloop()"
      ],
      "metadata": {
        "id": "XzFWc_O6szXp"
      },
      "execution_count": null,
      "outputs": []
    }
  ]
}
